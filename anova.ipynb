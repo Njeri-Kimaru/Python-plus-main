{
 "cells": [
  {
   "cell_type": "markdown",
   "id": "9c51b212",
   "metadata": {},
   "source": [
    "# THURSDAY 9TH OCT, 2025\n",
    "## Anova\n",
    "- Types of ANOVA\n",
    "\n",
    "- There are 3 main types of ANOVA, depending on the number of independent variables and interactions involved:\n",
    "\n",
    "1. One-Way ANOVA also ttest  two sample\n",
    "\n",
    "✅ What it compares: One independent variable (factor) with 2 or more groups.\n",
    "\n",
    "✅ Example: Comparing test scores between 3 teaching methods.\n",
    "\n",
    "✅ Assumption: Groups are independent and data is normally distributed.\n",
    "\n",
    "✅ Python function: scipy.stats.f_oneway()\n",
    "\n",
    "\n",
    "2. Two-Way ANOVA\n",
    "\n",
    "✅ What it compares: Two independent variables, possibly with interaction.\n",
    "\n",
    "✅ Example: Test scores by teaching method and gender (2 factors).\n",
    "\n",
    "✅ You can also test: Interaction effect — whether the effect of one factor depends on the other.\n",
    "\n",
    "📍 Usually implemented using statsmodels with a formula:\n",
    "from statsmodels.formula.api import ols\n",
    "import statsmodels.api as sm\n",
    "\n",
    "model = ols('Score ~ C(Method) + C(Gender) + C(Method):C(Gender)', data=df).fit()\n",
    "anova_table = sm.stats.anova_lm(model, typ=2)\n",
    " \n",
    " \n",
    "3. Repeated Measures ANOVA\n",
    "\n",
    "✅ What it compares: Same subjects measured under different conditions or times.\n",
    "\n",
    "✅ Example: Blood pressure before, during, and after treatment on same patients.\n",
    "\n",
    "✅ Use when: Data is not independent, i.e., repeated measures from same subjects.\n",
    "\n",
    "✅ Python: statsmodels or pingouin library."
   ]
  },
  {
   "cell_type": "code",
   "execution_count": 35,
   "id": "3dc5f6b7",
   "metadata": {},
   "outputs": [
    {
     "name": "stdout",
     "output_type": "stream",
     "text": [
      "Requirement already satisfied: statsmodels in c:\\users\\sally\\documents\\njeri kimaru lux\\python-plus-main\\my_env\\lib\\site-packages (0.14.5)\n",
      "Requirement already satisfied: numpy<3,>=1.22.3 in c:\\users\\sally\\documents\\njeri kimaru lux\\python-plus-main\\my_env\\lib\\site-packages (from statsmodels) (2.3.3)\n",
      "Requirement already satisfied: scipy!=1.9.2,>=1.8 in c:\\users\\sally\\documents\\njeri kimaru lux\\python-plus-main\\my_env\\lib\\site-packages (from statsmodels) (1.16.2)\n",
      "Requirement already satisfied: pandas!=2.1.0,>=1.4 in c:\\users\\sally\\documents\\njeri kimaru lux\\python-plus-main\\my_env\\lib\\site-packages (from statsmodels) (2.2.2)\n",
      "Requirement already satisfied: patsy>=0.5.6 in c:\\users\\sally\\documents\\njeri kimaru lux\\python-plus-main\\my_env\\lib\\site-packages (from statsmodels) (1.0.1)\n",
      "Requirement already satisfied: packaging>=21.3 in c:\\users\\sally\\documents\\njeri kimaru lux\\python-plus-main\\my_env\\lib\\site-packages (from statsmodels) (25.0)\n",
      "Requirement already satisfied: python-dateutil>=2.8.2 in c:\\users\\sally\\documents\\njeri kimaru lux\\python-plus-main\\my_env\\lib\\site-packages (from pandas!=2.1.0,>=1.4->statsmodels) (2.9.0.post0)\n",
      "Requirement already satisfied: pytz>=2020.1 in c:\\users\\sally\\documents\\njeri kimaru lux\\python-plus-main\\my_env\\lib\\site-packages (from pandas!=2.1.0,>=1.4->statsmodels) (2025.2)\n",
      "Requirement already satisfied: tzdata>=2022.7 in c:\\users\\sally\\documents\\njeri kimaru lux\\python-plus-main\\my_env\\lib\\site-packages (from pandas!=2.1.0,>=1.4->statsmodels) (2025.2)\n",
      "Requirement already satisfied: six>=1.5 in c:\\users\\sally\\documents\\njeri kimaru lux\\python-plus-main\\my_env\\lib\\site-packages (from python-dateutil>=2.8.2->pandas!=2.1.0,>=1.4->statsmodels) (1.17.0)\n"
     ]
    }
   ],
   "source": [
    "!pip install statsmodels"
   ]
  },
  {
   "cell_type": "code",
   "execution_count": 36,
   "id": "0c31a835",
   "metadata": {},
   "outputs": [],
   "source": [
    "import pandas as pd\n",
    "import statsmodels.api as sm\n",
    "from statsmodels.formula.api import ols"
   ]
  },
  {
   "cell_type": "code",
   "execution_count": 37,
   "id": "25f96798",
   "metadata": {},
   "outputs": [
    {
     "data": {
      "text/html": [
       "<div>\n",
       "<style scoped>\n",
       "    .dataframe tbody tr th:only-of-type {\n",
       "        vertical-align: middle;\n",
       "    }\n",
       "\n",
       "    .dataframe tbody tr th {\n",
       "        vertical-align: top;\n",
       "    }\n",
       "\n",
       "    .dataframe thead th {\n",
       "        text-align: right;\n",
       "    }\n",
       "</style>\n",
       "<table border=\"1\" class=\"dataframe\">\n",
       "  <thead>\n",
       "    <tr style=\"text-align: right;\">\n",
       "      <th></th>\n",
       "      <th>S</th>\n",
       "      <th>X</th>\n",
       "      <th>E</th>\n",
       "      <th>M</th>\n",
       "    </tr>\n",
       "  </thead>\n",
       "  <tbody>\n",
       "    <tr>\n",
       "      <th>0</th>\n",
       "      <td>13876</td>\n",
       "      <td>1</td>\n",
       "      <td>1</td>\n",
       "      <td>1</td>\n",
       "    </tr>\n",
       "    <tr>\n",
       "      <th>1</th>\n",
       "      <td>11608</td>\n",
       "      <td>1</td>\n",
       "      <td>3</td>\n",
       "      <td>0</td>\n",
       "    </tr>\n",
       "    <tr>\n",
       "      <th>2</th>\n",
       "      <td>18701</td>\n",
       "      <td>1</td>\n",
       "      <td>3</td>\n",
       "      <td>1</td>\n",
       "    </tr>\n",
       "    <tr>\n",
       "      <th>3</th>\n",
       "      <td>11283</td>\n",
       "      <td>1</td>\n",
       "      <td>2</td>\n",
       "      <td>0</td>\n",
       "    </tr>\n",
       "    <tr>\n",
       "      <th>4</th>\n",
       "      <td>11767</td>\n",
       "      <td>1</td>\n",
       "      <td>3</td>\n",
       "      <td>0</td>\n",
       "    </tr>\n",
       "  </tbody>\n",
       "</table>\n",
       "</div>"
      ],
      "text/plain": [
       "       S  X  E  M\n",
       "0  13876  1  1  1\n",
       "1  11608  1  3  0\n",
       "2  18701  1  3  1\n",
       "3  11283  1  2  0\n",
       "4  11767  1  3  0"
      ]
     },
     "execution_count": 37,
     "metadata": {},
     "output_type": "execute_result"
    }
   ],
   "source": [
    "data = pd.read_csv(r\"IT_salaries.csv\")\n",
    "data.head()"
   ]
  },
  {
   "cell_type": "code",
   "execution_count": 38,
   "id": "6ddd71f5",
   "metadata": {},
   "outputs": [],
   "source": [
    "# FORMULA FOR OLS\n",
    "# S is the column s,, M is the column M ,, and X is column X\n",
    "# S: This is the dependent variable (also called the response or outcome variable).\n",
    "# ~: Separates the dependent variable (S) from the independent variables (predictors).\n",
    "# C(E): Treat E as a categorical variable.\n",
    "# C(M): Treat M as a categorical variable.\n",
    "# X: Treat X as a numerical (continuous) variable.\n",
    "formula = 'S~ C(E) + C(M) + X'"
   ]
  },
  {
   "cell_type": "code",
   "execution_count": 39,
   "id": "6dc8ed0b",
   "metadata": {},
   "outputs": [],
   "source": [
    "#.fit(): This tells Python to actually fit (train) the model using the data\n",
    "#It finds the best coefficients (weights) for the variables to predict S.\n",
    "# ols is ordinary least squares\n",
    "lm = ols(formula, data).fit()"
   ]
  },
  {
   "cell_type": "code",
   "execution_count": 40,
   "id": "1a9805a4",
   "metadata": {},
   "outputs": [
    {
     "data": {
      "text/html": [
       "<table class=\"simpletable\">\n",
       "<caption>OLS Regression Results</caption>\n",
       "<tr>\n",
       "  <th>Dep. Variable:</th>            <td>S</td>        <th>  R-squared:         </th> <td>   0.957</td>\n",
       "</tr>\n",
       "<tr>\n",
       "  <th>Model:</th>                   <td>OLS</td>       <th>  Adj. R-squared:    </th> <td>   0.953</td>\n",
       "</tr>\n",
       "<tr>\n",
       "  <th>Method:</th>             <td>Least Squares</td>  <th>  F-statistic:       </th> <td>   226.8</td>\n",
       "</tr>\n",
       "<tr>\n",
       "  <th>Date:</th>             <td>Wed, 15 Oct 2025</td> <th>  Prob (F-statistic):</th> <td>2.23e-27</td>\n",
       "</tr>\n",
       "<tr>\n",
       "  <th>Time:</th>                 <td>12:09:56</td>     <th>  Log-Likelihood:    </th> <td> -381.63</td>\n",
       "</tr>\n",
       "<tr>\n",
       "  <th>No. Observations:</th>      <td>    46</td>      <th>  AIC:               </th> <td>   773.3</td>\n",
       "</tr>\n",
       "<tr>\n",
       "  <th>Df Residuals:</th>          <td>    41</td>      <th>  BIC:               </th> <td>   782.4</td>\n",
       "</tr>\n",
       "<tr>\n",
       "  <th>Df Model:</th>              <td>     4</td>      <th>                     </th>     <td> </td>   \n",
       "</tr>\n",
       "<tr>\n",
       "  <th>Covariance Type:</th>      <td>nonrobust</td>    <th>                     </th>     <td> </td>   \n",
       "</tr>\n",
       "</table>\n",
       "<table class=\"simpletable\">\n",
       "<tr>\n",
       "      <td></td>         <th>coef</th>     <th>std err</th>      <th>t</th>      <th>P>|t|</th>  <th>[0.025</th>    <th>0.975]</th>  \n",
       "</tr>\n",
       "<tr>\n",
       "  <th>Intercept</th> <td> 8035.5976</td> <td>  386.689</td> <td>   20.781</td> <td> 0.000</td> <td> 7254.663</td> <td> 8816.532</td>\n",
       "</tr>\n",
       "<tr>\n",
       "  <th>C(E)[T.2]</th> <td> 3144.0352</td> <td>  361.968</td> <td>    8.686</td> <td> 0.000</td> <td> 2413.025</td> <td> 3875.045</td>\n",
       "</tr>\n",
       "<tr>\n",
       "  <th>C(E)[T.3]</th> <td> 2996.2103</td> <td>  411.753</td> <td>    7.277</td> <td> 0.000</td> <td> 2164.659</td> <td> 3827.762</td>\n",
       "</tr>\n",
       "<tr>\n",
       "  <th>C(M)[T.1]</th> <td> 6883.5310</td> <td>  313.919</td> <td>   21.928</td> <td> 0.000</td> <td> 6249.559</td> <td> 7517.503</td>\n",
       "</tr>\n",
       "<tr>\n",
       "  <th>X</th>         <td>  546.1840</td> <td>   30.519</td> <td>   17.896</td> <td> 0.000</td> <td>  484.549</td> <td>  607.819</td>\n",
       "</tr>\n",
       "</table>\n",
       "<table class=\"simpletable\">\n",
       "<tr>\n",
       "  <th>Omnibus:</th>       <td> 2.293</td> <th>  Durbin-Watson:     </th> <td>   2.237</td>\n",
       "</tr>\n",
       "<tr>\n",
       "  <th>Prob(Omnibus):</th> <td> 0.318</td> <th>  Jarque-Bera (JB):  </th> <td>   1.362</td>\n",
       "</tr>\n",
       "<tr>\n",
       "  <th>Skew:</th>          <td>-0.077</td> <th>  Prob(JB):          </th> <td>   0.506</td>\n",
       "</tr>\n",
       "<tr>\n",
       "  <th>Kurtosis:</th>      <td> 2.171</td> <th>  Cond. No.          </th> <td>    33.5</td>\n",
       "</tr>\n",
       "</table><br/><br/>Notes:<br/>[1] Standard Errors assume that the covariance matrix of the errors is correctly specified."
      ],
      "text/latex": [
       "\\begin{center}\n",
       "\\begin{tabular}{lclc}\n",
       "\\toprule\n",
       "\\textbf{Dep. Variable:}    &        S         & \\textbf{  R-squared:         } &     0.957   \\\\\n",
       "\\textbf{Model:}            &       OLS        & \\textbf{  Adj. R-squared:    } &     0.953   \\\\\n",
       "\\textbf{Method:}           &  Least Squares   & \\textbf{  F-statistic:       } &     226.8   \\\\\n",
       "\\textbf{Date:}             & Wed, 15 Oct 2025 & \\textbf{  Prob (F-statistic):} &  2.23e-27   \\\\\n",
       "\\textbf{Time:}             &     12:09:56     & \\textbf{  Log-Likelihood:    } &   -381.63   \\\\\n",
       "\\textbf{No. Observations:} &          46      & \\textbf{  AIC:               } &     773.3   \\\\\n",
       "\\textbf{Df Residuals:}     &          41      & \\textbf{  BIC:               } &     782.4   \\\\\n",
       "\\textbf{Df Model:}         &           4      & \\textbf{                     } &             \\\\\n",
       "\\textbf{Covariance Type:}  &    nonrobust     & \\textbf{                     } &             \\\\\n",
       "\\bottomrule\n",
       "\\end{tabular}\n",
       "\\begin{tabular}{lcccccc}\n",
       "                   & \\textbf{coef} & \\textbf{std err} & \\textbf{t} & \\textbf{P$> |$t$|$} & \\textbf{[0.025} & \\textbf{0.975]}  \\\\\n",
       "\\midrule\n",
       "\\textbf{Intercept} &    8035.5976  &      386.689     &    20.781  &         0.000        &     7254.663    &     8816.532     \\\\\n",
       "\\textbf{C(E)[T.2]} &    3144.0352  &      361.968     &     8.686  &         0.000        &     2413.025    &     3875.045     \\\\\n",
       "\\textbf{C(E)[T.3]} &    2996.2103  &      411.753     &     7.277  &         0.000        &     2164.659    &     3827.762     \\\\\n",
       "\\textbf{C(M)[T.1]} &    6883.5310  &      313.919     &    21.928  &         0.000        &     6249.559    &     7517.503     \\\\\n",
       "\\textbf{X}         &     546.1840  &       30.519     &    17.896  &         0.000        &      484.549    &      607.819     \\\\\n",
       "\\bottomrule\n",
       "\\end{tabular}\n",
       "\\begin{tabular}{lclc}\n",
       "\\textbf{Omnibus:}       &  2.293 & \\textbf{  Durbin-Watson:     } &    2.237  \\\\\n",
       "\\textbf{Prob(Omnibus):} &  0.318 & \\textbf{  Jarque-Bera (JB):  } &    1.362  \\\\\n",
       "\\textbf{Skew:}          & -0.077 & \\textbf{  Prob(JB):          } &    0.506  \\\\\n",
       "\\textbf{Kurtosis:}      &  2.171 & \\textbf{  Cond. No.          } &     33.5  \\\\\n",
       "\\bottomrule\n",
       "\\end{tabular}\n",
       "%\\caption{OLS Regression Results}\n",
       "\\end{center}\n",
       "\n",
       "Notes: \\newline\n",
       " [1] Standard Errors assume that the covariance matrix of the errors is correctly specified."
      ],
      "text/plain": [
       "<class 'statsmodels.iolib.summary.Summary'>\n",
       "\"\"\"\n",
       "                            OLS Regression Results                            \n",
       "==============================================================================\n",
       "Dep. Variable:                      S   R-squared:                       0.957\n",
       "Model:                            OLS   Adj. R-squared:                  0.953\n",
       "Method:                 Least Squares   F-statistic:                     226.8\n",
       "Date:                Wed, 15 Oct 2025   Prob (F-statistic):           2.23e-27\n",
       "Time:                        12:09:56   Log-Likelihood:                -381.63\n",
       "No. Observations:                  46   AIC:                             773.3\n",
       "Df Residuals:                      41   BIC:                             782.4\n",
       "Df Model:                           4                                         \n",
       "Covariance Type:            nonrobust                                         \n",
       "==============================================================================\n",
       "                 coef    std err          t      P>|t|      [0.025      0.975]\n",
       "------------------------------------------------------------------------------\n",
       "Intercept   8035.5976    386.689     20.781      0.000    7254.663    8816.532\n",
       "C(E)[T.2]   3144.0352    361.968      8.686      0.000    2413.025    3875.045\n",
       "C(E)[T.3]   2996.2103    411.753      7.277      0.000    2164.659    3827.762\n",
       "C(M)[T.1]   6883.5310    313.919     21.928      0.000    6249.559    7517.503\n",
       "X            546.1840     30.519     17.896      0.000     484.549     607.819\n",
       "==============================================================================\n",
       "Omnibus:                        2.293   Durbin-Watson:                   2.237\n",
       "Prob(Omnibus):                  0.318   Jarque-Bera (JB):                1.362\n",
       "Skew:                          -0.077   Prob(JB):                        0.506\n",
       "Kurtosis:                       2.171   Cond. No.                         33.5\n",
       "==============================================================================\n",
       "\n",
       "Notes:\n",
       "[1] Standard Errors assume that the covariance matrix of the errors is correctly specified.\n",
       "\"\"\""
      ]
     },
     "execution_count": 40,
     "metadata": {},
     "output_type": "execute_result"
    }
   ],
   "source": [
    "# model summary\n",
    "lm.summary()"
   ]
  },
  {
   "cell_type": "code",
   "execution_count": 41,
   "id": "c71e8740",
   "metadata": {},
   "outputs": [
    {
     "data": {
      "text/html": [
       "<div>\n",
       "<style scoped>\n",
       "    .dataframe tbody tr th:only-of-type {\n",
       "        vertical-align: middle;\n",
       "    }\n",
       "\n",
       "    .dataframe tbody tr th {\n",
       "        vertical-align: top;\n",
       "    }\n",
       "\n",
       "    .dataframe thead th {\n",
       "        text-align: right;\n",
       "    }\n",
       "</style>\n",
       "<table border=\"1\" class=\"dataframe\">\n",
       "  <thead>\n",
       "    <tr style=\"text-align: right;\">\n",
       "      <th></th>\n",
       "      <th>sum_sq</th>\n",
       "      <th>df</th>\n",
       "      <th>F</th>\n",
       "      <th>PR(&gt;F)</th>\n",
       "    </tr>\n",
       "  </thead>\n",
       "  <tbody>\n",
       "    <tr>\n",
       "      <th>C(E)</th>\n",
       "      <td>9.152624e+07</td>\n",
       "      <td>2.0</td>\n",
       "      <td>43.351589</td>\n",
       "      <td>7.672450e-11</td>\n",
       "    </tr>\n",
       "    <tr>\n",
       "      <th>C(M)</th>\n",
       "      <td>5.075724e+08</td>\n",
       "      <td>1.0</td>\n",
       "      <td>480.825394</td>\n",
       "      <td>2.901444e-24</td>\n",
       "    </tr>\n",
       "    <tr>\n",
       "      <th>X</th>\n",
       "      <td>3.380979e+08</td>\n",
       "      <td>1.0</td>\n",
       "      <td>320.281524</td>\n",
       "      <td>5.546313e-21</td>\n",
       "    </tr>\n",
       "    <tr>\n",
       "      <th>Residual</th>\n",
       "      <td>4.328072e+07</td>\n",
       "      <td>41.0</td>\n",
       "      <td>NaN</td>\n",
       "      <td>NaN</td>\n",
       "    </tr>\n",
       "  </tbody>\n",
       "</table>\n",
       "</div>"
      ],
      "text/plain": [
       "                sum_sq    df           F        PR(>F)\n",
       "C(E)      9.152624e+07   2.0   43.351589  7.672450e-11\n",
       "C(M)      5.075724e+08   1.0  480.825394  2.901444e-24\n",
       "X         3.380979e+08   1.0  320.281524  5.546313e-21\n",
       "Residual  4.328072e+07  41.0         NaN           NaN"
      ]
     },
     "execution_count": 41,
     "metadata": {},
     "output_type": "execute_result"
    }
   ],
   "source": [
    "# lm is the linear model created earlier\n",
    "# typ=2 Tests each variable after adjusting for all other variables except interactions.\n",
    "table = sm.stats.anova_lm(lm,typ=2)\n",
    "table"
   ]
  },
  {
   "cell_type": "markdown",
   "id": "11d2c33e",
   "metadata": {},
   "source": [
    "# Question 1\n",
    "Scenario:\n",
    " A company ran three online ad campaigns — A, B, and C.\n",
    " You have conversion rates (%) from 10 cities for each campaign.\n",
    "Task:\n",
    " Write Python code to check if the mean conversion rates differ significantly among the campaigns using one-way ANOVA.\n",
    " -- # Sample data\n",
    "campaign_A = [12, 15, 14, 10, 13, 15, 11, 14, 13, 16]\n",
    "campaign_B = [18, 17, 16, 15, 20, 19, 18, 16, 17, 19]\n",
    "campaign_C = [10, 9, 11, 10, 12, 9, 11, 8, 10, 9]"
   ]
  },
  {
   "cell_type": "code",
   "execution_count": 42,
   "id": "a94ddf1e",
   "metadata": {},
   "outputs": [
    {
     "name": "stdout",
     "output_type": "stream",
     "text": [
      "57.973333333333386 1.692627434604139e-10\n",
      "reject the null hypothesis\n"
     ]
    }
   ],
   "source": [
    "# Sample data\n",
    "# The F-statistic is a ratio of \"between-group variance\" to \"within-group variance\".\n",
    "from scipy.stats import f_oneway\n",
    "import numpy as np\n",
    "\n",
    "campaign_A = [12, 15, 14, 10, 13, 15, 11, 14, 13, 16]\n",
    "campaign_B = [18, 17, 16, 15, 20, 19, 18, 16, 17, 19]\n",
    "campaign_C = [10, 9, 11, 10, 12, 9, 11, 8, 10, 9]\n",
    "\n",
    "f_stats, p_value = f_oneway(campaign_A,campaign_B,campaign_C)\n",
    "print(f_stats, p_value)\n",
    "alpha = 0.05\n",
    "\n",
    "if p_value < alpha:\n",
    "    print (\"reject the null hypothesis\")\n",
    "else:\n",
    "    print (\"fail to reject null hypothesis\")"
   ]
  },
  {
   "cell_type": "markdown",
   "id": "8f2472d5",
   "metadata": {},
   "source": [
    "# Question 2\n",
    "Fertilizer Type vs Crop Yield\n",
    "Scenario:\n",
    " Three fertilizers (A, B, and C) are used on crops.\n",
    " You record the yield (in kg) from 8 plots for each fertilizer.\n",
    "Task:\n",
    " Perform one-way ANOVA in Python to test if fertilizer type affects crop yield.\n",
    "fertilizer_A = [25, 27, 26, 30, 29, 28, 30, 27]\n",
    "fertilizer_B = [32, 35, 34, 33, 36, 34, 35, 32]\n",
    "fertilizer_C = [22, 20, 24, 23, 25, 21, 22, 23]\n",
    "Question:\n",
    " Which fertilizer(s) seem to produce significantly different yields?\n"
   ]
  },
  {
   "cell_type": "code",
   "execution_count": 43,
   "id": "266d942f",
   "metadata": {},
   "outputs": [
    {
     "name": "stdout",
     "output_type": "stream",
     "text": [
      "96.58758314855855 2.5717391158818948e-11\n",
      "based on the current evidence the mean differs significantly between fertilizers\n"
     ]
    }
   ],
   "source": [
    "import numpy as np\n",
    "from scipy.stats import f_oneway\n",
    "\n",
    "fertilizer_A = [25, 27, 26, 30, 29, 28, 30, 27]\n",
    "fertilizer_B = [32, 35, 34, 33, 36, 34, 35, 32]\n",
    "fertilizer_C = [22, 20, 24, 23, 25, 21, 22, 23]\n",
    "\n",
    "f_stats2, p_value2 = f_oneway(fertilizer_A,fertilizer_B,fertilizer_C)\n",
    "print (f_stats2, p_value2)\n",
    "alpha = 0.05\n",
    "altern_hypotheis = \"the mean differs significantly between fertilizers\"\n",
    "nul_hypothesis = \"the mean does not differ significantly between fertilizers\"\n",
    "\n",
    "if p_value2<alpha:\n",
    "    print (f\"based on the current evidence {altern_hypotheis}\")\n",
    "else:\n",
    "    print (f\"based on the current evidence {nul_hypothesis}\")"
   ]
  },
  {
   "cell_type": "code",
   "execution_count": 44,
   "id": "0dfadb8c",
   "metadata": {},
   "outputs": [
    {
     "name": "stdout",
     "output_type": "stream",
     "text": [
      "Multiple Comparison of Means - Tukey HSD, FWER=0.05 \n",
      "====================================================\n",
      "group1 group2 meandiff p-adj  lower    upper  reject\n",
      "----------------------------------------------------\n",
      "     A      B    6.125   0.0   4.0601  8.1899   True\n",
      "     A      C    -5.25   0.0  -7.3149 -3.1851   True\n",
      "     B      C  -11.375   0.0 -13.4399 -9.3101   True\n",
      "----------------------------------------------------\n"
     ]
    }
   ],
   "source": [
    "from statsmodels.stats.multicomp import pairwise_tukeyhsd\n",
    "\n",
    "# Combine data and labels\n",
    "yield_data = fertilizer_A + fertilizer_B + fertilizer_C\n",
    "fertilizers = ['A']*len(fertilizer_A) + ['B']*len(fertilizer_B) + ['C']*len(fertilizer_C)\n",
    "\n",
    "df = pd.DataFrame({'fertilizer': fertilizers, 'yield': yield_data})\n",
    "\n",
    "# Tukey HSD test\n",
    "tukey = pairwise_tukeyhsd(endog=df['yield'], groups=df['fertilizer'], alpha=0.05)\n",
    "print(tukey)\n"
   ]
  },
  {
   "cell_type": "markdown",
   "id": "53bf6419",
   "metadata": {},
   "source": [
    "# Question 3\n",
    "Teaching Method vs Student Performance\n",
    "Scenario:\n",
    " Students were taught using three different teaching methods (Lecture, Group Discussion, and Project-based).\n",
    " You have their exam scores.\n",
    "Task:\n",
    " Use Python to run ANOVA and check if the teaching method affects scores.\n",
    "Question:\n",
    " Does the teaching method have a statistically significant effect on student performance?\n"
   ]
  },
  {
   "cell_type": "code",
   "execution_count": 45,
   "id": "f111f33a",
   "metadata": {},
   "outputs": [],
   "source": [
    "data = {\n",
    "    'score': [78, 85, 80, 90, 88, 82, 84, 86, 92],\n",
    "    'method': ['Lecture', 'Lecture', 'Lecture',\n",
    "               'Discussion', 'Discussion', 'Discussion',\n",
    "               'Project', 'Project', 'Project']\n",
    "}\n"
   ]
  },
  {
   "cell_type": "code",
   "execution_count": 46,
   "id": "3ed1af58",
   "metadata": {},
   "outputs": [
    {
     "data": {
      "text/html": [
       "<div>\n",
       "<style scoped>\n",
       "    .dataframe tbody tr th:only-of-type {\n",
       "        vertical-align: middle;\n",
       "    }\n",
       "\n",
       "    .dataframe tbody tr th {\n",
       "        vertical-align: top;\n",
       "    }\n",
       "\n",
       "    .dataframe thead th {\n",
       "        text-align: right;\n",
       "    }\n",
       "</style>\n",
       "<table border=\"1\" class=\"dataframe\">\n",
       "  <thead>\n",
       "    <tr style=\"text-align: right;\">\n",
       "      <th></th>\n",
       "      <th>score</th>\n",
       "      <th>method</th>\n",
       "    </tr>\n",
       "  </thead>\n",
       "  <tbody>\n",
       "    <tr>\n",
       "      <th>0</th>\n",
       "      <td>78</td>\n",
       "      <td>Lecture</td>\n",
       "    </tr>\n",
       "    <tr>\n",
       "      <th>1</th>\n",
       "      <td>85</td>\n",
       "      <td>Lecture</td>\n",
       "    </tr>\n",
       "    <tr>\n",
       "      <th>2</th>\n",
       "      <td>80</td>\n",
       "      <td>Lecture</td>\n",
       "    </tr>\n",
       "    <tr>\n",
       "      <th>3</th>\n",
       "      <td>90</td>\n",
       "      <td>Discussion</td>\n",
       "    </tr>\n",
       "    <tr>\n",
       "      <th>4</th>\n",
       "      <td>88</td>\n",
       "      <td>Discussion</td>\n",
       "    </tr>\n",
       "    <tr>\n",
       "      <th>5</th>\n",
       "      <td>82</td>\n",
       "      <td>Discussion</td>\n",
       "    </tr>\n",
       "    <tr>\n",
       "      <th>6</th>\n",
       "      <td>84</td>\n",
       "      <td>Project</td>\n",
       "    </tr>\n",
       "    <tr>\n",
       "      <th>7</th>\n",
       "      <td>86</td>\n",
       "      <td>Project</td>\n",
       "    </tr>\n",
       "    <tr>\n",
       "      <th>8</th>\n",
       "      <td>92</td>\n",
       "      <td>Project</td>\n",
       "    </tr>\n",
       "  </tbody>\n",
       "</table>\n",
       "</div>"
      ],
      "text/plain": [
       "   score      method\n",
       "0     78     Lecture\n",
       "1     85     Lecture\n",
       "2     80     Lecture\n",
       "3     90  Discussion\n",
       "4     88  Discussion\n",
       "5     82  Discussion\n",
       "6     84     Project\n",
       "7     86     Project\n",
       "8     92     Project"
      ]
     },
     "execution_count": 46,
     "metadata": {},
     "output_type": "execute_result"
    }
   ],
   "source": [
    "import pandas as pd\n",
    "import statsmodels.api as sm\n",
    "from statsmodels.formula.api import ols\n",
    "df = pd.DataFrame(data)\n",
    "df.head(10)"
   ]
  },
  {
   "cell_type": "code",
   "execution_count": 47,
   "id": "ed2cd8ee",
   "metadata": {},
   "outputs": [],
   "source": [
    "formula1 = 'score ~ + C(method)'"
   ]
  },
  {
   "cell_type": "code",
   "execution_count": 48,
   "id": "a35bfd46",
   "metadata": {},
   "outputs": [
    {
     "data": {
      "text/plain": [
       "<statsmodels.regression.linear_model.RegressionResultsWrapper at 0x2e72e33a990>"
      ]
     },
     "execution_count": 48,
     "metadata": {},
     "output_type": "execute_result"
    }
   ],
   "source": [
    "lm2 = ols(formula1, df).fit()\n",
    "lm2"
   ]
  },
  {
   "cell_type": "code",
   "execution_count": 49,
   "id": "d570eee5",
   "metadata": {},
   "outputs": [
    {
     "data": {
      "text/html": [
       "<div>\n",
       "<style scoped>\n",
       "    .dataframe tbody tr th:only-of-type {\n",
       "        vertical-align: middle;\n",
       "    }\n",
       "\n",
       "    .dataframe tbody tr th {\n",
       "        vertical-align: top;\n",
       "    }\n",
       "\n",
       "    .dataframe thead th {\n",
       "        text-align: right;\n",
       "    }\n",
       "</style>\n",
       "<table border=\"1\" class=\"dataframe\">\n",
       "  <thead>\n",
       "    <tr style=\"text-align: right;\">\n",
       "      <th></th>\n",
       "      <th>sum_sq</th>\n",
       "      <th>df</th>\n",
       "      <th>F</th>\n",
       "      <th>PR(&gt;F)</th>\n",
       "    </tr>\n",
       "  </thead>\n",
       "  <tbody>\n",
       "    <tr>\n",
       "      <th>C(method)</th>\n",
       "      <td>72.666667</td>\n",
       "      <td>2.0</td>\n",
       "      <td>2.286713</td>\n",
       "      <td>0.182729</td>\n",
       "    </tr>\n",
       "    <tr>\n",
       "      <th>Residual</th>\n",
       "      <td>95.333333</td>\n",
       "      <td>6.0</td>\n",
       "      <td>NaN</td>\n",
       "      <td>NaN</td>\n",
       "    </tr>\n",
       "  </tbody>\n",
       "</table>\n",
       "</div>"
      ],
      "text/plain": [
       "              sum_sq   df         F    PR(>F)\n",
       "C(method)  72.666667  2.0  2.286713  0.182729\n",
       "Residual   95.333333  6.0       NaN       NaN"
      ]
     },
     "execution_count": 49,
     "metadata": {},
     "output_type": "execute_result"
    }
   ],
   "source": [
    "table1 = sm.stats.anova_lm(lm2,typ=2)\n",
    "table1"
   ]
  },
  {
   "cell_type": "code",
   "execution_count": 50,
   "id": "7285a021",
   "metadata": {},
   "outputs": [
    {
     "name": "stdout",
     "output_type": "stream",
     "text": [
      "based on the current evidence the teaching method does not have a statistically significant effect on student performance.\n"
     ]
    },
    {
     "name": "stderr",
     "output_type": "stream",
     "text": [
      "C:\\Users\\Sally\\AppData\\Local\\Temp\\ipykernel_1356\\2249758641.py:2: FutureWarning: Series.__getitem__ treating keys as positions is deprecated. In a future version, integer keys will always be treated as labels (consistent with DataFrame behavior). To access a value by position, use `ser.iloc[pos]`\n",
      "  p_value = table1['PR(>F)'][0]\n"
     ]
    }
   ],
   "source": [
    "alpha = 0.05\n",
    "p_value = table1['PR(>F)'][0]\n",
    "\n",
    "if p_value < alpha:\n",
    "    print(\"based on the current evidence the teaching method has a statistically significant effect on student performance.\")\n",
    "else:\n",
    "    print(\"based on the current evidence the teaching method does not have a statistically significant effect on student performance.\")\n"
   ]
  },
  {
   "cell_type": "markdown",
   "id": "db2780a3",
   "metadata": {},
   "source": [
    "# Question 4\n",
    "Machine Type vs Production Quality\n",
    "Scenario:\n",
    " Three different machines produce the same product.\n",
    " You record quality scores for items from each machine.\n",
    "Task:\n",
    " Run ANOVA in Python to check if the mean quality differs among machines.\n",
    "Question:\n",
    " Machine Type vs Production Quality\n",
    "Scenario:\n",
    " Three different machines produce the same product.\n",
    " You record quality scores for items from each machine.\n",
    "Task:\n",
    " Run ANOVA in Python to check if the mean quality differs among machines.\n",
    "Question:\n",
    " Which machine produces items with significantly different average quality?\n"
   ]
  },
  {
   "cell_type": "code",
   "execution_count": 51,
   "id": "885c40ad",
   "metadata": {},
   "outputs": [
    {
     "name": "stdout",
     "output_type": "stream",
     "text": [
      "88.80626780626768 5.678487937229093e-11\n",
      "based on the current evidence the mean differs significantly between machines\n"
     ]
    }
   ],
   "source": [
    "machine_A = [88, 85, 87, 90, 89, 88, 86, 87]\n",
    "machine_B = [82, 84, 83, 81, 80, 83, 82, 84]\n",
    "machine_C = [91, 90, 92, 93, 94, 92, 91, 93]\n",
    "\n",
    "f_stats3, p_value3 = f_oneway(machine_A, machine_B, machine_C)\n",
    "print (f_stats3, p_value3)\n",
    "alpha = 0.05\n",
    "null_hypothesis = \"the mean doesn't differ significantly between machines\"\n",
    "alternative_hypothesis = \"the mean differs significantly between machines\"\n",
    "\n",
    "if p_value3< alpha:\n",
    "    print (f\"based on the current evidence {alternative_hypothesis}\")\n",
    "else:\n",
    "    print (f\"based on the current evidence {null_hypothesis}\")"
   ]
  },
  {
   "cell_type": "code",
   "execution_count": 52,
   "id": "0b60402c",
   "metadata": {},
   "outputs": [
    {
     "name": "stdout",
     "output_type": "stream",
     "text": [
      "Multiple Comparison of Means - Tukey HSD, FWER=0.05\n",
      "===================================================\n",
      "group1 group2 meandiff p-adj  lower   upper  reject\n",
      "---------------------------------------------------\n",
      "     A      B   -5.125   0.0 -6.9467 -3.3033   True\n",
      "     A      C      4.5   0.0  2.6783  6.3217   True\n",
      "     B      C    9.625   0.0  7.8033 11.4467   True\n",
      "---------------------------------------------------\n"
     ]
    }
   ],
   "source": [
    "from statsmodels.stats.multicomp import pairwise_tukeyhsd\n",
    "\n",
    "# Combine data and labels\n",
    "scores_data = machine_A + machine_B + machine_C\n",
    "machines = ['A']*len(machine_A) + ['B']*len(machine_B) + ['C']*len(machine_C)\n",
    "\n",
    "df = pd.DataFrame({'machine': machines, 'scores': scores_data})\n",
    "\n",
    "# Tukey HSD test\n",
    "tukey = pairwise_tukeyhsd(endog=df['scores'], groups=df['machine'], alpha=0.05)\n",
    "print(tukey)\n"
   ]
  },
  {
   "cell_type": "markdown",
   "id": "dfab47b2",
   "metadata": {},
   "source": [
    "# Question 5\n",
    "Diet Plan vs Weight Loss\n",
    "Scenario:\n",
    " Four diet plans (Keto, Paleo, Vegan, and Mediterranean) were followed for 8 weeks.\n",
    " The weight loss (in kg) of participants was recorded.\n",
    "Task:\n",
    " Use ANOVA in Python to test if diet type affects weight loss.\n",
    "Question:\n",
    " Is there a significant difference in mean weight loss among the four diets?\n"
   ]
  },
  {
   "cell_type": "code",
   "execution_count": 53,
   "id": "bb9be906",
   "metadata": {},
   "outputs": [
    {
     "data": {
      "text/html": [
       "<div>\n",
       "<style scoped>\n",
       "    .dataframe tbody tr th:only-of-type {\n",
       "        vertical-align: middle;\n",
       "    }\n",
       "\n",
       "    .dataframe tbody tr th {\n",
       "        vertical-align: top;\n",
       "    }\n",
       "\n",
       "    .dataframe thead th {\n",
       "        text-align: right;\n",
       "    }\n",
       "</style>\n",
       "<table border=\"1\" class=\"dataframe\">\n",
       "  <thead>\n",
       "    <tr style=\"text-align: right;\">\n",
       "      <th></th>\n",
       "      <th>diet</th>\n",
       "      <th>weight_loss</th>\n",
       "    </tr>\n",
       "  </thead>\n",
       "  <tbody>\n",
       "    <tr>\n",
       "      <th>0</th>\n",
       "      <td>Keto</td>\n",
       "      <td>6</td>\n",
       "    </tr>\n",
       "    <tr>\n",
       "      <th>1</th>\n",
       "      <td>Keto</td>\n",
       "      <td>5</td>\n",
       "    </tr>\n",
       "    <tr>\n",
       "      <th>2</th>\n",
       "      <td>Keto</td>\n",
       "      <td>7</td>\n",
       "    </tr>\n",
       "    <tr>\n",
       "      <th>3</th>\n",
       "      <td>Keto</td>\n",
       "      <td>8</td>\n",
       "    </tr>\n",
       "    <tr>\n",
       "      <th>4</th>\n",
       "      <td>Keto</td>\n",
       "      <td>6</td>\n",
       "    </tr>\n",
       "  </tbody>\n",
       "</table>\n",
       "</div>"
      ],
      "text/plain": [
       "   diet  weight_loss\n",
       "0  Keto            6\n",
       "1  Keto            5\n",
       "2  Keto            7\n",
       "3  Keto            8\n",
       "4  Keto            6"
      ]
     },
     "execution_count": 53,
     "metadata": {},
     "output_type": "execute_result"
    }
   ],
   "source": [
    "data = {\n",
    "    'diet': ['Keto']*6 + ['Paleo']*6 + ['Vegan']*6 + ['Mediterranean']*6,\n",
    "    'weight_loss': [6, 5, 7, 8, 6, 7, 5, 6, 4, 5, 6, 5, 3, 4, 2, 4, 3, 2, 5, 6, 7, 6, 8, 7]\n",
    "}\n",
    "\n",
    "df3 = pd.DataFrame(data)\n",
    "df3.head()"
   ]
  },
  {
   "cell_type": "code",
   "execution_count": 54,
   "id": "b2e4ee14",
   "metadata": {},
   "outputs": [],
   "source": [
    "formula3 = 'weight_loss ~ + C(diet)'"
   ]
  },
  {
   "cell_type": "code",
   "execution_count": 55,
   "id": "d9dbf420",
   "metadata": {},
   "outputs": [
    {
     "data": {
      "text/plain": [
       "<statsmodels.regression.linear_model.RegressionResultsWrapper at 0x2e72e78f710>"
      ]
     },
     "execution_count": 55,
     "metadata": {},
     "output_type": "execute_result"
    }
   ],
   "source": [
    "lm3 = ols(formula3, df3).fit()\n",
    "lm3"
   ]
  },
  {
   "cell_type": "code",
   "execution_count": 56,
   "id": "19e093b2",
   "metadata": {},
   "outputs": [
    {
     "data": {
      "text/html": [
       "<div>\n",
       "<style scoped>\n",
       "    .dataframe tbody tr th:only-of-type {\n",
       "        vertical-align: middle;\n",
       "    }\n",
       "\n",
       "    .dataframe tbody tr th {\n",
       "        vertical-align: top;\n",
       "    }\n",
       "\n",
       "    .dataframe thead th {\n",
       "        text-align: right;\n",
       "    }\n",
       "</style>\n",
       "<table border=\"1\" class=\"dataframe\">\n",
       "  <thead>\n",
       "    <tr style=\"text-align: right;\">\n",
       "      <th></th>\n",
       "      <th>sum_sq</th>\n",
       "      <th>df</th>\n",
       "      <th>F</th>\n",
       "      <th>PR(&gt;F)</th>\n",
       "    </tr>\n",
       "  </thead>\n",
       "  <tbody>\n",
       "    <tr>\n",
       "      <th>C(diet)</th>\n",
       "      <td>49.125000</td>\n",
       "      <td>3.0</td>\n",
       "      <td>18.364486</td>\n",
       "      <td>0.000006</td>\n",
       "    </tr>\n",
       "    <tr>\n",
       "      <th>Residual</th>\n",
       "      <td>17.833333</td>\n",
       "      <td>20.0</td>\n",
       "      <td>NaN</td>\n",
       "      <td>NaN</td>\n",
       "    </tr>\n",
       "  </tbody>\n",
       "</table>\n",
       "</div>"
      ],
      "text/plain": [
       "             sum_sq    df          F    PR(>F)\n",
       "C(diet)   49.125000   3.0  18.364486  0.000006\n",
       "Residual  17.833333  20.0        NaN       NaN"
      ]
     },
     "execution_count": 56,
     "metadata": {},
     "output_type": "execute_result"
    }
   ],
   "source": [
    "table3 = sm.stats.anova_lm(lm3,typ=2)\n",
    "table3"
   ]
  },
  {
   "cell_type": "code",
   "execution_count": 57,
   "id": "4350a457",
   "metadata": {},
   "outputs": [
    {
     "name": "stdout",
     "output_type": "stream",
     "text": [
      "based on the current evidence there is a significant difference in mean weight loss among the four diets.\n"
     ]
    },
    {
     "name": "stderr",
     "output_type": "stream",
     "text": [
      "C:\\Users\\Sally\\AppData\\Local\\Temp\\ipykernel_1356\\124207240.py:2: FutureWarning: Series.__getitem__ treating keys as positions is deprecated. In a future version, integer keys will always be treated as labels (consistent with DataFrame behavior). To access a value by position, use `ser.iloc[pos]`\n",
      "  p_value = table3['PR(>F)'][0]\n"
     ]
    }
   ],
   "source": [
    "alpha = 0.05\n",
    "p_value = table3['PR(>F)'][0]\n",
    "\n",
    "if p_value < alpha:\n",
    "    print(\"based on the current evidence there is a significant difference in mean weight loss among the four diets.\")\n",
    "else:\n",
    "    print(\"based on the current evidence there is no significant difference in mean weight loss among the four diets.\")\n"
   ]
  },
  {
   "cell_type": "markdown",
   "id": "ff88f5c1",
   "metadata": {},
   "source": [
    "# WEDNESDAY 15TH OCTOBER, 2025"
   ]
  },
  {
   "cell_type": "code",
   "execution_count": 58,
   "id": "e79204e8",
   "metadata": {},
   "outputs": [],
   "source": [
    "import pandas as pd\n",
    "import statsmodels.api as sm\n",
    "from statsmodels.formula.api import ols"
   ]
  },
  {
   "cell_type": "code",
   "execution_count": 59,
   "id": "0e01c215",
   "metadata": {},
   "outputs": [
    {
     "data": {
      "text/html": [
       "<div>\n",
       "<style scoped>\n",
       "    .dataframe tbody tr th:only-of-type {\n",
       "        vertical-align: middle;\n",
       "    }\n",
       "\n",
       "    .dataframe tbody tr th {\n",
       "        vertical-align: top;\n",
       "    }\n",
       "\n",
       "    .dataframe thead th {\n",
       "        text-align: right;\n",
       "    }\n",
       "</style>\n",
       "<table border=\"1\" class=\"dataframe\">\n",
       "  <thead>\n",
       "    <tr style=\"text-align: right;\">\n",
       "      <th></th>\n",
       "      <th>bedrooms</th>\n",
       "      <th>bathrooms</th>\n",
       "      <th>sqft_living</th>\n",
       "      <th>sqft_lot</th>\n",
       "      <th>floors</th>\n",
       "      <th>waterfront</th>\n",
       "      <th>view</th>\n",
       "      <th>condition</th>\n",
       "      <th>grade</th>\n",
       "      <th>year_built</th>\n",
       "      <th>year_renovated</th>\n",
       "      <th>zipcode</th>\n",
       "      <th>lat</th>\n",
       "      <th>long</th>\n",
       "      <th>price</th>\n",
       "    </tr>\n",
       "  </thead>\n",
       "  <tbody>\n",
       "    <tr>\n",
       "      <th>0</th>\n",
       "      <td>3</td>\n",
       "      <td>1</td>\n",
       "      <td>2803</td>\n",
       "      <td>1153</td>\n",
       "      <td>1</td>\n",
       "      <td>0</td>\n",
       "      <td>0</td>\n",
       "      <td>3</td>\n",
       "      <td>9</td>\n",
       "      <td>2003</td>\n",
       "      <td>0</td>\n",
       "      <td>98001</td>\n",
       "      <td>47.660671</td>\n",
       "      <td>-121.785347</td>\n",
       "      <td>835016.23</td>\n",
       "    </tr>\n",
       "    <tr>\n",
       "      <th>1</th>\n",
       "      <td>5</td>\n",
       "      <td>3</td>\n",
       "      <td>783</td>\n",
       "      <td>9762</td>\n",
       "      <td>1</td>\n",
       "      <td>0</td>\n",
       "      <td>2</td>\n",
       "      <td>4</td>\n",
       "      <td>4</td>\n",
       "      <td>2019</td>\n",
       "      <td>0</td>\n",
       "      <td>98003</td>\n",
       "      <td>47.681937</td>\n",
       "      <td>-122.151515</td>\n",
       "      <td>326073.09</td>\n",
       "    </tr>\n",
       "    <tr>\n",
       "      <th>2</th>\n",
       "      <td>3</td>\n",
       "      <td>3</td>\n",
       "      <td>3412</td>\n",
       "      <td>2842</td>\n",
       "      <td>2</td>\n",
       "      <td>0</td>\n",
       "      <td>3</td>\n",
       "      <td>4</td>\n",
       "      <td>9</td>\n",
       "      <td>1961</td>\n",
       "      <td>1962</td>\n",
       "      <td>98002</td>\n",
       "      <td>47.182798</td>\n",
       "      <td>-121.792089</td>\n",
       "      <td>1025404.09</td>\n",
       "    </tr>\n",
       "    <tr>\n",
       "      <th>3</th>\n",
       "      <td>2</td>\n",
       "      <td>3</td>\n",
       "      <td>2222</td>\n",
       "      <td>9020</td>\n",
       "      <td>2</td>\n",
       "      <td>1</td>\n",
       "      <td>2</td>\n",
       "      <td>4</td>\n",
       "      <td>4</td>\n",
       "      <td>2008</td>\n",
       "      <td>1962</td>\n",
       "      <td>98004</td>\n",
       "      <td>47.440995</td>\n",
       "      <td>-121.871224</td>\n",
       "      <td>758764.79</td>\n",
       "    </tr>\n",
       "    <tr>\n",
       "      <th>4</th>\n",
       "      <td>4</td>\n",
       "      <td>1</td>\n",
       "      <td>4713</td>\n",
       "      <td>1584</td>\n",
       "      <td>2</td>\n",
       "      <td>0</td>\n",
       "      <td>3</td>\n",
       "      <td>4</td>\n",
       "      <td>5</td>\n",
       "      <td>1987</td>\n",
       "      <td>0</td>\n",
       "      <td>98005</td>\n",
       "      <td>47.701306</td>\n",
       "      <td>-122.416623</td>\n",
       "      <td>1314784.23</td>\n",
       "    </tr>\n",
       "  </tbody>\n",
       "</table>\n",
       "</div>"
      ],
      "text/plain": [
       "   bedrooms  bathrooms  sqft_living  sqft_lot  floors  waterfront  view  \\\n",
       "0         3          1         2803      1153       1           0     0   \n",
       "1         5          3          783      9762       1           0     2   \n",
       "2         3          3         3412      2842       2           0     3   \n",
       "3         2          3         2222      9020       2           1     2   \n",
       "4         4          1         4713      1584       2           0     3   \n",
       "\n",
       "   condition  grade  year_built  year_renovated  zipcode        lat  \\\n",
       "0          3      9        2003               0    98001  47.660671   \n",
       "1          4      4        2019               0    98003  47.681937   \n",
       "2          4      9        1961            1962    98002  47.182798   \n",
       "3          4      4        2008            1962    98004  47.440995   \n",
       "4          4      5        1987               0    98005  47.701306   \n",
       "\n",
       "         long       price  \n",
       "0 -121.785347   835016.23  \n",
       "1 -122.151515   326073.09  \n",
       "2 -121.792089  1025404.09  \n",
       "3 -121.871224   758764.79  \n",
       "4 -122.416623  1314784.23  "
      ]
     },
     "execution_count": 59,
     "metadata": {},
     "output_type": "execute_result"
    }
   ],
   "source": [
    "house_prices = pd.read_csv(r\"house_prices_dataset.csv\")\n",
    "house_prices.head()"
   ]
  },
  {
   "cell_type": "code",
   "execution_count": null,
   "id": "722e6311",
   "metadata": {},
   "outputs": [
    {
     "data": {
      "text/plain": [
       "Index(['bedrooms', 'bathrooms', 'sqft_living', 'sqft_lot', 'floors',\n",
       "       'waterfront', 'view', 'condition', 'grade', 'year_built',\n",
       "       'year_renovated', 'price'],\n",
       "      dtype='object')"
      ]
     },
     "execution_count": 71,
     "metadata": {},
     "output_type": "execute_result"
    }
   ],
   "source": [
    "# the columns bathrooms, bedrooms and floors are discrete numerical\n",
    "# the columns condition, grade and waterfront are categorical\n",
    "house_prices.columns"
   ]
  },
  {
   "cell_type": "code",
   "execution_count": 61,
   "id": "d1339232",
   "metadata": {},
   "outputs": [],
   "source": [
    "house_prices = house_prices.drop(columns=[\"zipcode\",\"lat\",'long'],axis=1)"
   ]
  },
  {
   "cell_type": "code",
   "execution_count": 70,
   "id": "56ffc4df",
   "metadata": {},
   "outputs": [
    {
     "data": {
      "text/plain": [
       "bedrooms\n",
       "4    224\n",
       "2    206\n",
       "1    203\n",
       "5    188\n",
       "3    179\n",
       "Name: count, dtype: int64"
      ]
     },
     "execution_count": 70,
     "metadata": {},
     "output_type": "execute_result"
    }
   ],
   "source": [
    "house_prices['bedrooms'].value_counts()"
   ]
  },
  {
   "cell_type": "code",
   "execution_count": null,
   "id": "ba480d58",
   "metadata": {},
   "outputs": [
    {
     "data": {
      "text/plain": [
       "bathrooms\n",
       "3    355\n",
       "2    328\n",
       "1    317\n",
       "Name: count, dtype: int64"
      ]
     },
     "execution_count": 69,
     "metadata": {},
     "output_type": "execute_result"
    }
   ],
   "source": [
    "house_prices['bathrooms'].value_counts()"
   ]
  },
  {
   "cell_type": "code",
   "execution_count": 66,
   "id": "837e9f51",
   "metadata": {},
   "outputs": [
    {
     "data": {
      "text/plain": [
       "waterfront\n",
       "0    893\n",
       "1    107\n",
       "Name: count, dtype: int64"
      ]
     },
     "execution_count": 66,
     "metadata": {},
     "output_type": "execute_result"
    }
   ],
   "source": [
    "house_prices['waterfront'].value_counts()"
   ]
  },
  {
   "cell_type": "code",
   "execution_count": 67,
   "metadata": {},
   "outputs": [
    {
     "data": {
      "text/plain": [
       "grade\n",
       "12    111\n",
       "1      95\n",
       "3      91\n",
       "10     90\n",
       "8      86\n",
       "4      85\n",
       "5      80\n",
       "9      80\n",
       "6      76\n",
       "11     75\n",
       "7      72\n",
       "2      59\n",
       "Name: count, dtype: int64"
      ]
     },
     "execution_count": 67,
     "metadata": {},
     "output_type": "execute_result"
    }
   ],
   "source": [
    "house_prices['grade'].value_counts()"
   ]
  },
  {
   "cell_type": "code",
   "execution_count": 64,
   "id": "d18cf301",
   "metadata": {},
   "outputs": [
    {
     "data": {
      "text/plain": [
       "view\n",
       "1    265\n",
       "0    259\n",
       "3    250\n",
       "2    226\n",
       "Name: count, dtype: int64"
      ]
     },
     "execution_count": 64,
     "metadata": {},
     "output_type": "execute_result"
    }
   ],
   "source": [
    "house_prices['view'].value_counts()\n"
   ]
  },
  {
   "cell_type": "code",
   "execution_count": 63,
   "id": "b72b0efa",
   "metadata": {},
   "outputs": [
    {
     "name": "stdout",
     "output_type": "stream",
     "text": [
      "<class 'pandas.core.frame.DataFrame'>\n",
      "RangeIndex: 1000 entries, 0 to 999\n",
      "Data columns (total 12 columns):\n",
      " #   Column          Non-Null Count  Dtype  \n",
      "---  ------          --------------  -----  \n",
      " 0   bedrooms        1000 non-null   int64  \n",
      " 1   bathrooms       1000 non-null   int64  \n",
      " 2   sqft_living     1000 non-null   int64  \n",
      " 3   sqft_lot        1000 non-null   int64  \n",
      " 4   floors          1000 non-null   int64  \n",
      " 5   waterfront      1000 non-null   int64  \n",
      " 6   view            1000 non-null   int64  \n",
      " 7   condition       1000 non-null   int64  \n",
      " 8   grade           1000 non-null   int64  \n",
      " 9   year_built      1000 non-null   int64  \n",
      " 10  year_renovated  1000 non-null   int64  \n",
      " 11  price           1000 non-null   float64\n",
      "dtypes: float64(1), int64(11)\n",
      "memory usage: 93.9 KB\n"
     ]
    }
   ],
   "source": [
    "house_prices.info()"
   ]
  },
  {
   "cell_type": "code",
   "execution_count": 72,
   "id": "e20f36cb",
   "metadata": {},
   "outputs": [
    {
     "data": {
      "text/plain": [
       "Index(['bedrooms', 'bathrooms', 'sqft_living', 'sqft_lot', 'floors',\n",
       "       'waterfront', 'view', 'condition', 'grade', 'year_built',\n",
       "       'year_renovated', 'price'],\n",
       "      dtype='object')"
      ]
     },
     "execution_count": 72,
     "metadata": {},
     "output_type": "execute_result"
    }
   ],
   "source": [
    "house_prices.columns"
   ]
  },
  {
   "cell_type": "code",
   "execution_count": 78,
   "id": "c32a6791",
   "metadata": {},
   "outputs": [
    {
     "data": {
      "text/html": [
       "<div>\n",
       "<style scoped>\n",
       "    .dataframe tbody tr th:only-of-type {\n",
       "        vertical-align: middle;\n",
       "    }\n",
       "\n",
       "    .dataframe tbody tr th {\n",
       "        vertical-align: top;\n",
       "    }\n",
       "\n",
       "    .dataframe thead th {\n",
       "        text-align: right;\n",
       "    }\n",
       "</style>\n",
       "<table border=\"1\" class=\"dataframe\">\n",
       "  <thead>\n",
       "    <tr style=\"text-align: right;\">\n",
       "      <th></th>\n",
       "      <th>sum_sq</th>\n",
       "      <th>df</th>\n",
       "      <th>F</th>\n",
       "      <th>PR(&gt;F)</th>\n",
       "    </tr>\n",
       "  </thead>\n",
       "  <tbody>\n",
       "    <tr>\n",
       "      <th>C(waterfront)</th>\n",
       "      <td>9.174604e+11</td>\n",
       "      <td>1.0</td>\n",
       "      <td>2415.951849</td>\n",
       "      <td>5.068573e-266</td>\n",
       "    </tr>\n",
       "    <tr>\n",
       "      <th>C(condition)</th>\n",
       "      <td>2.035890e+11</td>\n",
       "      <td>4.0</td>\n",
       "      <td>134.027892</td>\n",
       "      <td>3.098076e-91</td>\n",
       "    </tr>\n",
       "    <tr>\n",
       "      <th>C(view)</th>\n",
       "      <td>1.888490e+10</td>\n",
       "      <td>3.0</td>\n",
       "      <td>16.576555</td>\n",
       "      <td>1.645176e-10</td>\n",
       "    </tr>\n",
       "    <tr>\n",
       "      <th>C(grade)</th>\n",
       "      <td>7.623975e+11</td>\n",
       "      <td>11.0</td>\n",
       "      <td>182.511272</td>\n",
       "      <td>9.652991e-228</td>\n",
       "    </tr>\n",
       "    <tr>\n",
       "      <th>bedrooms</th>\n",
       "      <td>4.721119e+11</td>\n",
       "      <td>1.0</td>\n",
       "      <td>1243.213950</td>\n",
       "      <td>3.570604e-176</td>\n",
       "    </tr>\n",
       "    <tr>\n",
       "      <th>floors</th>\n",
       "      <td>3.029555e+07</td>\n",
       "      <td>1.0</td>\n",
       "      <td>0.079777</td>\n",
       "      <td>7.776593e-01</td>\n",
       "    </tr>\n",
       "    <tr>\n",
       "      <th>bathrooms</th>\n",
       "      <td>6.144977e+10</td>\n",
       "      <td>1.0</td>\n",
       "      <td>161.815886</td>\n",
       "      <td>2.095560e-34</td>\n",
       "    </tr>\n",
       "    <tr>\n",
       "      <th>sqft_living</th>\n",
       "      <td>1.016168e+14</td>\n",
       "      <td>1.0</td>\n",
       "      <td>267587.977203</td>\n",
       "      <td>0.000000e+00</td>\n",
       "    </tr>\n",
       "    <tr>\n",
       "      <th>year_built</th>\n",
       "      <td>8.065949e+06</td>\n",
       "      <td>1.0</td>\n",
       "      <td>0.021240</td>\n",
       "      <td>8.841570e-01</td>\n",
       "    </tr>\n",
       "    <tr>\n",
       "      <th>year_renovated</th>\n",
       "      <td>8.655870e+07</td>\n",
       "      <td>1.0</td>\n",
       "      <td>0.227935</td>\n",
       "      <td>6.331661e-01</td>\n",
       "    </tr>\n",
       "    <tr>\n",
       "      <th>Residual</th>\n",
       "      <td>3.698776e+11</td>\n",
       "      <td>974.0</td>\n",
       "      <td>NaN</td>\n",
       "      <td>NaN</td>\n",
       "    </tr>\n",
       "  </tbody>\n",
       "</table>\n",
       "</div>"
      ],
      "text/plain": [
       "                      sum_sq     df              F         PR(>F)\n",
       "C(waterfront)   9.174604e+11    1.0    2415.951849  5.068573e-266\n",
       "C(condition)    2.035890e+11    4.0     134.027892   3.098076e-91\n",
       "C(view)         1.888490e+10    3.0      16.576555   1.645176e-10\n",
       "C(grade)        7.623975e+11   11.0     182.511272  9.652991e-228\n",
       "bedrooms        4.721119e+11    1.0    1243.213950  3.570604e-176\n",
       "floors          3.029555e+07    1.0       0.079777   7.776593e-01\n",
       "bathrooms       6.144977e+10    1.0     161.815886   2.095560e-34\n",
       "sqft_living     1.016168e+14    1.0  267587.977203   0.000000e+00\n",
       "year_built      8.065949e+06    1.0       0.021240   8.841570e-01\n",
       "year_renovated  8.655870e+07    1.0       0.227935   6.331661e-01\n",
       "Residual        3.698776e+11  974.0            NaN            NaN"
      ]
     },
     "execution_count": 78,
     "metadata": {},
     "output_type": "execute_result"
    }
   ],
   "source": [
    "# the typ=2 is used in two way anova \n",
    "# the typ=3 is used in three way anova\n",
    "# .fit() -- to create a model takes ols which has two parameters formula and data\n",
    "# table take the model and typ of anova\n",
    "# ols is used to compare dependent and independent variables\n",
    "formula = 'price~ + bedrooms + floors + bathrooms + sqft_living + year_built + year_renovated + C(waterfront) + C(condition) + C(view) +C(grade)'\n",
    "lm = ols(formula, house_prices).fit()\n",
    "table4 = sm.stats.anova_lm(lm, typ=2)\n",
    "table4"
   ]
  }
 ],
 "metadata": {
  "kernelspec": {
   "display_name": "my_env",
   "language": "python",
   "name": "python3"
  },
  "language_info": {
   "codemirror_mode": {
    "name": "ipython",
    "version": 3
   },
   "file_extension": ".py",
   "mimetype": "text/x-python",
   "name": "python",
   "nbconvert_exporter": "python",
   "pygments_lexer": "ipython3",
   "version": "3.11.9"
  }
 },
 "nbformat": 4,
 "nbformat_minor": 5
}
