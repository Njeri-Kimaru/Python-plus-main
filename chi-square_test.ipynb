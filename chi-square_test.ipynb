{
 "cells": [
  {
   "cell_type": "markdown",
   "id": "134394e3",
   "metadata": {},
   "source": [
    "# TUESDAY 14TH OCTOBER, 2025"
   ]
  },
  {
   "cell_type": "code",
   "execution_count": 1,
   "id": "85e93f7d",
   "metadata": {},
   "outputs": [],
   "source": [
    "import pandas as pd\n",
    "import numpy as np\n",
    "from scipy import stats"
   ]
  },
  {
   "cell_type": "code",
   "execution_count": 13,
   "id": "52d476e9",
   "metadata": {},
   "outputs": [
    {
     "data": {
      "text/html": [
       "<div>\n",
       "<style scoped>\n",
       "    .dataframe tbody tr th:only-of-type {\n",
       "        vertical-align: middle;\n",
       "    }\n",
       "\n",
       "    .dataframe tbody tr th {\n",
       "        vertical-align: top;\n",
       "    }\n",
       "\n",
       "    .dataframe thead th {\n",
       "        text-align: right;\n",
       "    }\n",
       "</style>\n",
       "<table border=\"1\" class=\"dataframe\">\n",
       "  <thead>\n",
       "    <tr style=\"text-align: right;\">\n",
       "      <th></th>\n",
       "      <th>Super Bowl</th>\n",
       "      <th>Coin Toss Outcome</th>\n",
       "      <th>Coin Toss Winner</th>\n",
       "      <th>Game Winner</th>\n",
       "    </tr>\n",
       "  </thead>\n",
       "  <tbody>\n",
       "    <tr>\n",
       "      <th>0</th>\n",
       "      <td>1</td>\n",
       "      <td>Heads</td>\n",
       "      <td>Home Team</td>\n",
       "      <td>Home Team</td>\n",
       "    </tr>\n",
       "    <tr>\n",
       "      <th>1</th>\n",
       "      <td>2</td>\n",
       "      <td>Tails</td>\n",
       "      <td>Home Team</td>\n",
       "      <td>Away Team</td>\n",
       "    </tr>\n",
       "    <tr>\n",
       "      <th>2</th>\n",
       "      <td>3</td>\n",
       "      <td>Heads</td>\n",
       "      <td>Home Team</td>\n",
       "      <td>Home Team</td>\n",
       "    </tr>\n",
       "    <tr>\n",
       "      <th>3</th>\n",
       "      <td>4</td>\n",
       "      <td>Tails</td>\n",
       "      <td>Away Team</td>\n",
       "      <td>Home Team</td>\n",
       "    </tr>\n",
       "    <tr>\n",
       "      <th>4</th>\n",
       "      <td>5</td>\n",
       "      <td>Tails</td>\n",
       "      <td>Home Team</td>\n",
       "      <td>Away Team</td>\n",
       "    </tr>\n",
       "  </tbody>\n",
       "</table>\n",
       "</div>"
      ],
      "text/plain": [
       "   Super Bowl Coin Toss Outcome Coin Toss Winner Game Winner\n",
       "0           1             Heads        Home Team   Home Team\n",
       "1           2             Tails        Home Team   Away Team\n",
       "2           3             Heads        Home Team   Home Team\n",
       "3           4             Tails        Away Team   Home Team\n",
       "4           5             Tails        Home Team   Away Team"
      ]
     },
     "execution_count": 13,
     "metadata": {},
     "output_type": "execute_result"
    }
   ],
   "source": [
    "sb_data = pd.read_csv(r\"superbowl.csv\")\n",
    "sb_data.head()"
   ]
  },
  {
   "cell_type": "code",
   "execution_count": 23,
   "id": "001d9f73",
   "metadata": {},
   "outputs": [
    {
     "data": {
      "text/plain": [
       "Coin Toss Winner\n",
       "Away Team    30\n",
       "Home Team    25\n",
       "Name: count, dtype: int64"
      ]
     },
     "execution_count": 23,
     "metadata": {},
     "output_type": "execute_result"
    }
   ],
   "source": [
    "coin_toss = sb_data[\"Coin Toss Winner\"].value_counts()\n",
    "coin_toss"
   ]
  },
  {
   "cell_type": "code",
   "execution_count": 25,
   "id": "19bdcbc4",
   "metadata": {},
   "outputs": [
    {
     "data": {
      "text/plain": [
       "[27.5, 27.5]"
      ]
     },
     "execution_count": 25,
     "metadata": {},
     "output_type": "execute_result"
    }
   ],
   "source": [
    "expected"
   ]
  },
  {
   "cell_type": "code",
   "execution_count": 26,
   "id": "92104239",
   "metadata": {},
   "outputs": [
    {
     "data": {
      "text/plain": [
       "array([30, 25])"
      ]
     },
     "execution_count": 26,
     "metadata": {},
     "output_type": "execute_result"
    }
   ],
   "source": [
    "observed_coin_toss = coin_toss.values\n",
    "observed_coin_toss"
   ]
  },
  {
   "cell_type": "code",
   "execution_count": 27,
   "id": "8dcee03b",
   "metadata": {},
   "outputs": [
    {
     "data": {
      "text/plain": [
       "Power_divergenceResult(statistic=np.float64(0.45454545454545453), pvalue=np.float64(0.5001842570707944))"
      ]
     },
     "execution_count": 27,
     "metadata": {},
     "output_type": "execute_result"
    }
   ],
   "source": [
    "coin_toss_chisquare = stats.chisquare(observed_coin_toss,expected)\n",
    "coin_toss_chisquare"
   ]
  },
  {
   "cell_type": "code",
   "execution_count": 19,
   "id": "e0de06f4",
   "metadata": {},
   "outputs": [
    {
     "data": {
      "text/plain": [
       "Game Winner\n",
       "Away Team    31\n",
       "Home Team    24\n",
       "Name: count, dtype: int64"
      ]
     },
     "execution_count": 19,
     "metadata": {},
     "output_type": "execute_result"
    }
   ],
   "source": [
    "game_winner_count = sb_data[\"Game Winner\"].value_counts()\n",
    "game_winner_count"
   ]
  },
  {
   "cell_type": "code",
   "execution_count": 20,
   "metadata": {},
   "outputs": [
    {
     "data": {
      "text/plain": [
       "array([31, 24])"
      ]
     },
     "execution_count": 20,
     "metadata": {},
     "output_type": "execute_result"
    }
   ],
   "source": [
    "observed = game_winner_count.values\n",
    "observed"
   ]
  },
  {
   "cell_type": "code",
   "execution_count": 21,
   "id": "f54aecb1",
   "metadata": {},
   "outputs": [
    {
     "data": {
      "text/plain": [
       "[27.5, 27.5]"
      ]
     },
     "execution_count": 21,
     "metadata": {},
     "output_type": "execute_result"
    }
   ],
   "source": [
    "expected = [sum(game_winner_count)/2, sum(game_winner_count)/2]\n",
    "expected"
   ]
  },
  {
   "cell_type": "code",
   "execution_count": 22,
   "id": "2c5dc6b1",
   "metadata": {},
   "outputs": [
    {
     "data": {
      "text/plain": [
       "Power_divergenceResult(statistic=np.float64(0.8909090909090909), pvalue=np.float64(0.34523107177184))"
      ]
     },
     "execution_count": 22,
     "metadata": {},
     "output_type": "execute_result"
    }
   ],
   "source": [
    "game_winner_chisquare = stats.chisquare(observed,expected)\n",
    "game_winner_chisquare"
   ]
  },
  {
   "cell_type": "markdown",
   "id": "7a39ad39",
   "metadata": {},
   "source": [
    "# WEDNESDAY 15TH OCTOBER, 2025"
   ]
  },
  {
   "cell_type": "markdown",
   "id": "3fd26bdc",
   "metadata": {},
   "source": [
    "## GOODNESS OF FIT"
   ]
  },
  {
   "cell_type": "code",
   "execution_count": 3,
   "id": "de92980c",
   "metadata": {},
   "outputs": [
    {
     "data": {
      "text/html": [
       "<div>\n",
       "<style scoped>\n",
       "    .dataframe tbody tr th:only-of-type {\n",
       "        vertical-align: middle;\n",
       "    }\n",
       "\n",
       "    .dataframe tbody tr th {\n",
       "        vertical-align: top;\n",
       "    }\n",
       "\n",
       "    .dataframe thead th {\n",
       "        text-align: right;\n",
       "    }\n",
       "</style>\n",
       "<table border=\"1\" class=\"dataframe\">\n",
       "  <thead>\n",
       "    <tr style=\"text-align: right;\">\n",
       "      <th></th>\n",
       "      <th>date</th>\n",
       "      <th>season</th>\n",
       "      <th>neutral</th>\n",
       "      <th>playoff</th>\n",
       "      <th>team1</th>\n",
       "      <th>team2</th>\n",
       "      <th>elo1</th>\n",
       "      <th>elo2</th>\n",
       "      <th>elo_prob1</th>\n",
       "      <th>score1</th>\n",
       "      <th>score2</th>\n",
       "      <th>result1</th>\n",
       "    </tr>\n",
       "  </thead>\n",
       "  <tbody>\n",
       "    <tr>\n",
       "      <th>0</th>\n",
       "      <td>1920-09-26</td>\n",
       "      <td>1920</td>\n",
       "      <td>0</td>\n",
       "      <td>0</td>\n",
       "      <td>RII</td>\n",
       "      <td>STP</td>\n",
       "      <td>1503.947</td>\n",
       "      <td>1300.000</td>\n",
       "      <td>0.824651</td>\n",
       "      <td>48</td>\n",
       "      <td>0</td>\n",
       "      <td>1.0</td>\n",
       "    </tr>\n",
       "    <tr>\n",
       "      <th>1</th>\n",
       "      <td>1920-10-03</td>\n",
       "      <td>1920</td>\n",
       "      <td>0</td>\n",
       "      <td>0</td>\n",
       "      <td>AKR</td>\n",
       "      <td>WHE</td>\n",
       "      <td>1503.420</td>\n",
       "      <td>1300.000</td>\n",
       "      <td>0.824212</td>\n",
       "      <td>43</td>\n",
       "      <td>0</td>\n",
       "      <td>1.0</td>\n",
       "    </tr>\n",
       "    <tr>\n",
       "      <th>2</th>\n",
       "      <td>1920-10-03</td>\n",
       "      <td>1920</td>\n",
       "      <td>0</td>\n",
       "      <td>0</td>\n",
       "      <td>RCH</td>\n",
       "      <td>ABU</td>\n",
       "      <td>1503.420</td>\n",
       "      <td>1300.000</td>\n",
       "      <td>0.824212</td>\n",
       "      <td>10</td>\n",
       "      <td>0</td>\n",
       "      <td>1.0</td>\n",
       "    </tr>\n",
       "    <tr>\n",
       "      <th>3</th>\n",
       "      <td>1920-10-03</td>\n",
       "      <td>1920</td>\n",
       "      <td>0</td>\n",
       "      <td>0</td>\n",
       "      <td>DAY</td>\n",
       "      <td>COL</td>\n",
       "      <td>1493.002</td>\n",
       "      <td>1504.908</td>\n",
       "      <td>0.575819</td>\n",
       "      <td>14</td>\n",
       "      <td>0</td>\n",
       "      <td>1.0</td>\n",
       "    </tr>\n",
       "    <tr>\n",
       "      <th>4</th>\n",
       "      <td>1920-10-03</td>\n",
       "      <td>1920</td>\n",
       "      <td>0</td>\n",
       "      <td>0</td>\n",
       "      <td>RII</td>\n",
       "      <td>MUN</td>\n",
       "      <td>1516.108</td>\n",
       "      <td>1478.004</td>\n",
       "      <td>0.644171</td>\n",
       "      <td>45</td>\n",
       "      <td>0</td>\n",
       "      <td>1.0</td>\n",
       "    </tr>\n",
       "  </tbody>\n",
       "</table>\n",
       "</div>"
      ],
      "text/plain": [
       "         date  season  neutral  playoff team1 team2      elo1      elo2  \\\n",
       "0  1920-09-26    1920        0        0   RII   STP  1503.947  1300.000   \n",
       "1  1920-10-03    1920        0        0   AKR   WHE  1503.420  1300.000   \n",
       "2  1920-10-03    1920        0        0   RCH   ABU  1503.420  1300.000   \n",
       "3  1920-10-03    1920        0        0   DAY   COL  1493.002  1504.908   \n",
       "4  1920-10-03    1920        0        0   RII   MUN  1516.108  1478.004   \n",
       "\n",
       "   elo_prob1  score1  score2  result1  \n",
       "0   0.824651      48       0      1.0  \n",
       "1   0.824212      43       0      1.0  \n",
       "2   0.824212      10       0      1.0  \n",
       "3   0.575819      14       0      1.0  \n",
       "4   0.644171      45       0      1.0  "
      ]
     },
     "execution_count": 3,
     "metadata": {},
     "output_type": "execute_result"
    }
   ],
   "source": [
    "nfl_data = pd.read_csv(r\"nfl_games (1).csv\")\n",
    "nfl_data.head()"
   ]
  },
  {
   "cell_type": "code",
   "execution_count": 6,
   "id": "2aba4d73",
   "metadata": {},
   "outputs": [
    {
     "data": {
      "text/plain": [
       "Game Winner\n",
       "Away Team    5265\n",
       "Home Team    7066\n",
       "Name: count, dtype: int64"
      ]
     },
     "execution_count": 6,
     "metadata": {},
     "output_type": "execute_result"
    }
   ],
   "source": [
    "\n",
    "# Narrow to relevant rows\n",
    "nfl_data = nfl_data[(nfl_data[\"neutral\"] == 0) & (nfl_data[\"playoff\"] == 0) & (nfl_data[\"season\"] >= 1966 )]\n",
    "# Engineer a new feature\n",
    "nfl_data.loc[nfl_data[\"result1\"] == 0, \"Game Winner\"] = \"Away Team\"\n",
    "nfl_data.loc[nfl_data[\"result1\"] == 1, \"Game Winner\"] = \"Home Team\"\n",
    "\n",
    "game_winner_counts_nfl = nfl_data[\"Game Winner\"].value_counts().sort_index()\n",
    "game_winner_counts_nfl"
   ]
  },
  {
   "cell_type": "code",
   "execution_count": 7,
   "id": "42d7c441",
   "metadata": {},
   "outputs": [
    {
     "data": {
      "text/plain": [
       "array([5265, 7066])"
      ]
     },
     "execution_count": 7,
     "metadata": {},
     "output_type": "execute_result"
    }
   ],
   "source": [
    "nfl_observed = game_winner_counts_nfl.values\n",
    "nfl_observed"
   ]
  },
  {
   "cell_type": "code",
   "execution_count": 8,
   "id": "25b6e755",
   "metadata": {},
   "outputs": [
    {
     "data": {
      "text/plain": [
       "[6165.5, 6165.5]"
      ]
     },
     "execution_count": 8,
     "metadata": {},
     "output_type": "execute_result"
    }
   ],
   "source": [
    "nfl_expected = [sum(game_winner_counts_nfl)/2,sum(game_winner_counts_nfl)/2]\n",
    "nfl_expected"
   ]
  },
  {
   "cell_type": "code",
   "execution_count": 10,
   "id": "08332033",
   "metadata": {},
   "outputs": [
    {
     "data": {
      "text/plain": [
       "Power_divergenceResult(statistic=np.float64(263.0444408401589), pvalue=np.float64(3.723190824055013e-59))"
      ]
     },
     "execution_count": 10,
     "metadata": {},
     "output_type": "execute_result"
    }
   ],
   "source": [
    "nfl_chisquare = stats.chisquare(nfl_observed,nfl_expected)\n",
    "nfl_chisquare"
   ]
  },
  {
   "cell_type": "markdown",
   "id": "8e15cea6",
   "metadata": {},
   "source": [
    "## TEST FOR INDEPENDENCE"
   ]
  },
  {
   "cell_type": "markdown",
   "id": "297fe4d6",
   "metadata": {},
   "source": [
    "--- NULL HYPOTHESIS IS THAT THEY ARE NOT DEPENDENT ON EACH OTHER and ALTERNATIVE HYPOTHESIS IS THAT THEY ARE DEPENDENT ON EACH OTHER"
   ]
  },
  {
   "cell_type": "code",
   "execution_count": 14,
   "metadata": {},
   "outputs": [
    {
     "data": {
      "text/html": [
       "<div>\n",
       "<style scoped>\n",
       "    .dataframe tbody tr th:only-of-type {\n",
       "        vertical-align: middle;\n",
       "    }\n",
       "\n",
       "    .dataframe tbody tr th {\n",
       "        vertical-align: top;\n",
       "    }\n",
       "\n",
       "    .dataframe thead th {\n",
       "        text-align: right;\n",
       "    }\n",
       "</style>\n",
       "<table border=\"1\" class=\"dataframe\">\n",
       "  <thead>\n",
       "    <tr style=\"text-align: right;\">\n",
       "      <th>Game Winner</th>\n",
       "      <th>Away Team</th>\n",
       "      <th>Home Team</th>\n",
       "    </tr>\n",
       "    <tr>\n",
       "      <th>Coin Toss Winner</th>\n",
       "      <th></th>\n",
       "      <th></th>\n",
       "    </tr>\n",
       "  </thead>\n",
       "  <tbody>\n",
       "    <tr>\n",
       "      <th>Away Team</th>\n",
       "      <td>15</td>\n",
       "      <td>15</td>\n",
       "    </tr>\n",
       "    <tr>\n",
       "      <th>Home Team</th>\n",
       "      <td>16</td>\n",
       "      <td>9</td>\n",
       "    </tr>\n",
       "  </tbody>\n",
       "</table>\n",
       "</div>"
      ],
      "text/plain": [
       "Game Winner       Away Team  Home Team\n",
       "Coin Toss Winner                      \n",
       "Away Team                15         15\n",
       "Home Team                16          9"
      ]
     },
     "execution_count": 14,
     "metadata": {},
     "output_type": "execute_result"
    }
   ],
   "source": [
    "independence_table = pd.crosstab(sb_data[\"Coin Toss Winner\"], sb_data[\"Game Winner\"])\n",
    "independence_table"
   ]
  },
  {
   "cell_type": "code",
   "execution_count": 15,
   "id": "c7197e00",
   "metadata": {},
   "outputs": [
    {
     "name": "stdout",
     "output_type": "stream",
     "text": [
      "0.5920138888888885 0.44164141533080714 1 [[16.90909091 13.09090909]\n",
      " [14.09090909 10.90909091]]\n"
     ]
    }
   ],
   "source": [
    "chi2, p, dof, xex = stats.chi2_contingency(independence_table)\n",
    "print(chi2, p, dof, xex)"
   ]
  },
  {
   "cell_type": "markdown",
   "id": "2f479ede",
   "metadata": {},
   "source": [
    "--- we fail to reject the null hypothesis hence they have o relationship and are independent"
   ]
  }
 ],
 "metadata": {
  "kernelspec": {
   "display_name": "my_env",
   "language": "python",
   "name": "python3"
  },
  "language_info": {
   "codemirror_mode": {
    "name": "ipython",
    "version": 3
   },
   "file_extension": ".py",
   "mimetype": "text/x-python",
   "name": "python",
   "nbconvert_exporter": "python",
   "pygments_lexer": "ipython3",
   "version": "3.11.9"
  }
 },
 "nbformat": 4,
 "nbformat_minor": 5
}
